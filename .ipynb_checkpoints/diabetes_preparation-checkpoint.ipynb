{
 "cells": [
  {
   "cell_type": "code",
   "execution_count": 4,
   "metadata": {
    "collapsed": false
   },
   "outputs": [
    {
     "name": "stdout",
     "output_type": "stream",
     "text": [
      "['diabetes.csv']\n",
      "   Pregnancies  Glucose  BloodPressure  SkinThickness  Insulin   BMI  \\\n",
      "0            6      148             72             35        0  33.6   \n",
      "1            1       85             66             29        0  26.6   \n",
      "2            8      183             64              0        0  23.3   \n",
      "3            1       89             66             23       94  28.1   \n",
      "4            0      137             40             35      168  43.1   \n",
      "\n",
      "   DiabetesPedigreeFunction  Age  Outcome  \n",
      "0                     0.627   50        1  \n",
      "1                     0.351   31        0  \n",
      "2                     0.672   32        1  \n",
      "3                     0.167   21        0  \n",
      "4                     2.288   33        1  \n",
      "Pregnancies                  17\n",
      "Glucose                     136\n",
      "BloodPressure                47\n",
      "SkinThickness                51\n",
      "Insulin                     186\n",
      "BMI                         248\n",
      "DiabetesPedigreeFunction    517\n",
      "Age                          52\n",
      "Outcome                       2\n",
      "dtype: int64\n",
      "(768, 8) (768,)\n",
      "(673, 8) (673,)\n"
     ]
    }
   ],
   "source": [
    "import pandas as pd\n",
    "import numpy\n",
    "from zipfile import ZipFile\n",
    "from sklearn.ensemble import IsolationForest\n",
    "from sklearn.preprocessing import StandardScaler\n",
    "from pickle import dump\n",
    "\n",
    "path = '/home/ragav/my_python_files/folder_data/diabetes.zip'\n",
    "myzip = ZipFile(path)\n",
    "zz = myzip.namelist()\n",
    "print(zz)\n",
    "myfile = myzip.open(zz[0])\n",
    "# read the data in\n",
    "df = pd.read_csv(myfile)\n",
    "#print(df.info())\n",
    "print(df.head())\n",
    "\n",
    "# summarize the number of unique values in each column\n",
    "print(df.nunique())\n",
    "# dataset\n",
    "dataset = df.values\n",
    "# load pima indians dataset\n",
    "# split into input (X) and output (Y) variables\n",
    "X = dataset[:,0:8]\n",
    "y = dataset[:,8]\n",
    "\n",
    "# summarize the shape of the training dataset\n",
    "print(X.shape, y.shape)\n",
    "# identify outliers in the training dataset\n",
    "isof = IsolationForest()\n",
    "yhat = isof.fit_predict(X)\n",
    "# select all rows that are not outliers\n",
    "mask = yhat != -1\n",
    "X, y = X[mask, :], y[mask]\n",
    "# summarize the shape of the updated training dataset\n",
    "print(X.shape, y.shape)\n",
    "\n",
    "# perform a robust scaler transform of the dataset\n",
    "trans = StandardScaler()\n",
    "X = trans.fit_transform(X)\n",
    "\n",
    "# save the isolation forest model\n",
    "dump(isof, open('isof.pkl', 'wb'))\n",
    "# save the scaler\n",
    "dump(trans, open('trans.pkl', 'wb'))\n"
   ]
  },
  {
   "cell_type": "code",
   "execution_count": null,
   "metadata": {
    "collapsed": true
   },
   "outputs": [],
   "source": []
  }
 ],
 "metadata": {
  "kernelspec": {
   "display_name": "Environment (virtualenv_django2)",
   "language": "python",
   "name": "virtualenv_django2"
  },
  "language_info": {
   "codemirror_mode": {
    "name": "ipython",
    "version": 3
   },
   "file_extension": ".py",
   "mimetype": "text/x-python",
   "name": "python",
   "nbconvert_exporter": "python",
   "pygments_lexer": "ipython3",
   "version": "3.7.0"
  }
 },
 "nbformat": 4,
 "nbformat_minor": 0
}
